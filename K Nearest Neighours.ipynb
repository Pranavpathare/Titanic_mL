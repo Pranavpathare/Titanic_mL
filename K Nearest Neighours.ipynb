{
 "cells": [
  {
   "cell_type": "code",
   "execution_count": 81,
   "metadata": {},
   "outputs": [],
   "source": [
    "import numpy as np"
   ]
  },
  {
   "cell_type": "code",
   "execution_count": 82,
   "metadata": {},
   "outputs": [],
   "source": [
    "import random\n",
    "from sklearn.metrics import classification_report,accuracy_score,confusion_matrix"
   ]
  },
  {
   "cell_type": "code",
   "execution_count": 95,
   "metadata": {},
   "outputs": [],
   "source": [
    "import numpy as np\n",
    "from future.utils import iteritems\n",
    "from sortedcontainers import SortedList\n",
    "import random\n",
    "from sklearn.metrics import classification_report,accuracy_score,confusion_matrix\n",
    "\n",
    "\n",
    "\n",
    "class KNN():\n",
    "    def __init__(self,k):\n",
    "        self.k = k\n",
    "    \n",
    "    def fit(self,X,y):\n",
    "        self.X = X\n",
    "        self.y = y\n",
    "        \n",
    "    def predict(self,X):\n",
    "        p = np.zeros(len(X))\n",
    "        for i,x in enumerate(X):\n",
    "            s1 = SortedList()\n",
    "            for j,xt in enumerate(self.X):\n",
    "                diff = x - xt\n",
    "                d = diff.dot(diff)\n",
    "                if len(s1) < self.k:\n",
    "                    s1.add((d,self.y[j]))\n",
    "                else:\n",
    "                    if d < s1[-1][0]:\n",
    "                        del s1[-1]\n",
    "                        s1.add((d,self.y[j]))\n",
    "            votes = {}\n",
    "            for _,v in s1:\n",
    "                votes[v] = votes.get(v,0) + 1\n",
    "                \n",
    "            max_votes = 0\n",
    "            max_votes_class = -1\n",
    "            for v,count in iteritems(votes):\n",
    "                if count>max_votes:\n",
    "                    max_votes = count \n",
    "                    max_votes_class = v\n",
    "            p[i] = max_votes_class\n",
    "        return p\n",
    "    \n",
    "    def score(self,X,Y):\n",
    "        P = self.predict(X)\n",
    "        return np.mean(P == Y)"
   ]
  },
  {
   "cell_type": "code",
   "execution_count": 84,
   "metadata": {},
   "outputs": [],
   "source": [
    "# Preparing the data\n",
    "\n",
    "X = []\n",
    "y = []\n",
    "b = [[0,1],[1,0],[1,1],[0,0]]\n",
    "for i in range(1000):\n",
    "    p = random.choice(b)\n",
    "    X.append(p)\n",
    "    y.append(p[0] or p[1])\n",
    "X = np.array(X)\n",
    "y = np.array(y)\n",
    "from sklearn.model_selection import train_test_split"
   ]
  },
  {
   "cell_type": "code",
   "execution_count": 85,
   "metadata": {},
   "outputs": [],
   "source": [
    "X_train, X_test, y_train, y_test = train_test_split(X, y, test_size=0.3, random_state=42)"
   ]
  },
  {
   "cell_type": "code",
   "execution_count": 86,
   "metadata": {},
   "outputs": [],
   "source": [
    "knn = KNN(5)"
   ]
  },
  {
   "cell_type": "code",
   "execution_count": 87,
   "metadata": {},
   "outputs": [],
   "source": [
    "knn.fit(X_train,y_train)"
   ]
  },
  {
   "cell_type": "code",
   "execution_count": 88,
   "metadata": {},
   "outputs": [],
   "source": [
    "pred = knn.predict(X_test)"
   ]
  },
  {
   "cell_type": "code",
   "execution_count": 89,
   "metadata": {},
   "outputs": [
    {
     "data": {
      "text/plain": [
       "1.0"
      ]
     },
     "execution_count": 89,
     "metadata": {},
     "output_type": "execute_result"
    }
   ],
   "source": [
    "accuracy_score(y_test,pred)"
   ]
  },
  {
   "cell_type": "code",
   "execution_count": 94,
   "metadata": {},
   "outputs": [
    {
     "name": "stdout",
     "output_type": "stream",
     "text": [
      "1.0\n",
      "\n",
      "[[ 74   0]\n",
      " [  0 226]]\n",
      "\n",
      "              precision    recall  f1-score   support\n",
      "\n",
      "           0       1.00      1.00      1.00        74\n",
      "           1       1.00      1.00      1.00       226\n",
      "\n",
      "   micro avg       1.00      1.00      1.00       300\n",
      "   macro avg       1.00      1.00      1.00       300\n",
      "weighted avg       1.00      1.00      1.00       300\n",
      "\n",
      "\n"
     ]
    }
   ],
   "source": [
    "for i in [accuracy_score,confusion_matrix,classification_report ]:\n",
    "    print(i(y_test,pred))\n",
    "    print()"
   ]
  },
  {
   "cell_type": "code",
   "execution_count": null,
   "metadata": {},
   "outputs": [],
   "source": []
  },
  {
   "cell_type": "code",
   "execution_count": null,
   "metadata": {},
   "outputs": [],
   "source": []
  }
 ],
 "metadata": {
  "kernelspec": {
   "display_name": "Python 3",
   "language": "python",
   "name": "python3"
  },
  "language_info": {
   "codemirror_mode": {
    "name": "ipython",
    "version": 3
   },
   "file_extension": ".py",
   "mimetype": "text/x-python",
   "name": "python",
   "nbconvert_exporter": "python",
   "pygments_lexer": "ipython3",
   "version": "3.7.1"
  }
 },
 "nbformat": 4,
 "nbformat_minor": 2
}
