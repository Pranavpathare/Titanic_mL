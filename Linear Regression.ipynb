{
 "cells": [
  {
   "cell_type": "markdown",
   "metadata": {},
   "source": [
    "# Linear Regression"
   ]
  },
  {
   "cell_type": "markdown",
   "metadata": {},
   "source": [
    "In statistics, linear regression is a linear approach to modelling the relationship between a scalar response (or dependent variable) and one or more explanatory variables (or independent variables).\n",
    "\n",
    "Linear regression is perhaps one of the most well known and well understood algorithms in statistics and machine learning.\n",
    "\n",
    "There are two types of linear regression- Simple and Multiple."
   ]
  },
  {
   "cell_type": "markdown",
   "metadata": {},
   "source": [
    "<img src=\"../Images/Cost-Function.jpg\">"
   ]
  },
  {
   "cell_type": "markdown",
   "metadata": {},
   "source": [
    "_________________________________________________________________________________________________________________"
   ]
  },
  {
   "cell_type": "markdown",
   "metadata": {},
   "source": [
    "<img src=\"../Images/r2.png\">"
   ]
  },
  {
   "cell_type": "code",
   "execution_count": 1,
   "metadata": {},
   "outputs": [],
   "source": [
    "def adjR2(y,yhat):\n",
    "    SS_Residual = sum((y-yhat)**2)\n",
    "    SS_Total = sum((y-np.mean(y))**2)\n",
    "    r_squared = 1 - (float(SS_Residual))/SS_Total\n",
    "    adjusted_r_squared = 1 - (1-r_squared)*(len(y)-1)/(len(y)-1-1)\n",
    "    print(\"The value of adjusted R2 is : {}\".format(adjusted_r_squared))"
   ]
  },
  {
   "cell_type": "markdown",
   "metadata": {},
   "source": [
    "## Simple Linear Regression"
   ]
  },
  {
   "cell_type": "code",
   "execution_count": 2,
   "metadata": {},
   "outputs": [],
   "source": [
    "import numpy as np\n",
    "import matplotlib.pyplot as plt\n",
    "%matplotlib inline\n",
    "\n",
    "import sklearn\n",
    "from sklearn.metrics import accuracy_score,classification_report,confusion_matrix"
   ]
  },
  {
   "cell_type": "code",
   "execution_count": 3,
   "metadata": {},
   "outputs": [],
   "source": [
    "# Input X should be in the form of a 1d array\n",
    "# X = [a,\n",
    "#      b,\n",
    "#      c]\n",
    "# y and targets must in the format of a one dimensional array of binary values here"
   ]
  },
  {
   "cell_type": "code",
   "execution_count": 4,
   "metadata": {},
   "outputs": [],
   "source": [
    "class SimpleLinearRegression:\n",
    "    def __init__(self):\n",
    "        pass\n",
    "\n",
    "    def __loss(self, yhat, y):\n",
    "        return np.square(yhat - y).mean()\n",
    "    \n",
    "    def fit(self, X, y):\n",
    "        denominator = X.dot(X) - X.mean()*X.sum()\n",
    "        self.m = (X.dot(y) - y.mean()*(X.sum()))/denominator\n",
    "        self.c = (y.mean()*X.dot(X) - X.mean()*X.dot(y))/denominator\n",
    "     \n",
    "        yhat = self.m*X + self.c\n",
    "        \n",
    "        print(\"Total loss is :\",self.__loss(yhat,y))\n",
    "        print()\n",
    "        print(\"Equation of your line is y = {}x + {}\".format(self.m,self.c))\n",
    "        print()\n",
    "        \n",
    "        adjR2(y,yhat)\n",
    "        \n",
    "        plt.scatter(X,y)\n",
    "        plt.plot(X,yhat)\n",
    "        plt.show()\n",
    "\n",
    "        \n",
    "    def predict(self, X):\n",
    "        return self.m*np.float64(X) + self.c"
   ]
  },
  {
   "cell_type": "code",
   "execution_count": 5,
   "metadata": {},
   "outputs": [],
   "source": [
    "X = np.array([1,2,3,4,5,6])\n",
    "y = np.array([5,7,9,11,13,15])"
   ]
  },
  {
   "cell_type": "code",
   "execution_count": 6,
   "metadata": {},
   "outputs": [],
   "source": [
    "Slr = SimpleLinearRegression()"
   ]
  },
  {
   "cell_type": "code",
   "execution_count": 7,
   "metadata": {},
   "outputs": [
    {
     "name": "stdout",
     "output_type": "stream",
     "text": [
      "Total loss is : 0.0\n",
      "\n",
      "Equation of your line is y = 2.0x + 3.0\n",
      "\n",
      "The value of adjusted R2 is : 1.0\n"
     ]
    },
    {
     "data": {
      "image/png": "[encoded data removed]",
      "text/plain": [
       "<Figure size 432x288 with 1 Axes>"
      ]
     },
     "metadata": {
      "needs_background": "light"
     },
     "output_type": "display_data"
    }
   ],
   "source": [
    "Slr.fit(X,y)"
   ]
  },
  {
   "cell_type": "code",
   "execution_count": 8,
   "metadata": {},
   "outputs": [
    {
     "data": {
      "text/plain": [
       "array([ 9., 11.])"
      ]
     },
     "execution_count": 8,
     "metadata": {},
     "output_type": "execute_result"
    }
   ],
   "source": [
    "Slr.predict([3,4])"
   ]
  },
  {
   "cell_type": "markdown",
   "metadata": {},
   "source": [
    " \n",
    "  "
   ]
  },
  {
   "cell_type": "markdown",
   "metadata": {},
   "source": [
    " "
   ]
  },
  {
   "cell_type": "markdown",
   "metadata": {},
   "source": [
    "  "
   ]
  },
  {
   "cell_type": "markdown",
   "metadata": {},
   "source": [
    " "
   ]
  },
  {
   "cell_type": "markdown",
   "metadata": {},
   "source": [
    "## Multiple Linear Regression"
   ]
  },
  {
   "cell_type": "code",
   "execution_count": 9,
   "metadata": {},
   "outputs": [],
   "source": [
    "# Input X should be in the form of a 2d array\n",
    "# The way scikit learn implements it\n",
    "# X = [[a,b],\n",
    "#      [c,d]]\n",
    "# y and targets must in the format of a one dimensional array of binary values here"
   ]
  },
  {
   "cell_type": "code",
   "execution_count": 10,
   "metadata": {},
   "outputs": [],
   "source": [
    "class MultipleLinearRegression:\n",
    "    def __init__(self):\n",
    "        self.flag = False\n",
    "    \n",
    "    def __loss(self, yhat, y):\n",
    "        return np.square(yhat - y).mean()\n",
    "    \n",
    "    def fit(self, X, y):\n",
    "        try:\n",
    "            self.W = np.linalg.solve(np.dot(X.T,X),np.dot(X.T,y))\n",
    "        except np.linalg.LinAlgError:\n",
    "            self.flag = True\n",
    "        if self.flag == True:\n",
    "            print(\"The matrix in singular, You were caught by the dummy variable trap, use gradient descent instead\")\n",
    "        else:\n",
    "                self.W = np.linalg.solve(np.dot(X.T,X),np.dot(X.T,y))\n",
    "                yhat = X.dot(self.W)\n",
    "\n",
    "                print(\"Total loss is :\",self.__loss(yhat,y))\n",
    "                print()\n",
    "                print(\"Weights are: {}\".format(self.W))\n",
    "                print()\n",
    "\n",
    "                adjR2(y,yhat)\n",
    "        \n",
    "        \n",
    "    def predict(self, X):\n",
    "        if self.flag == True:\n",
    "            print(\"No Solution\")\n",
    "        else:\n",
    "            return X.dot(self.W)"
   ]
  },
  {
   "cell_type": "code",
   "execution_count": 11,
   "metadata": {},
   "outputs": [],
   "source": [
    "X = np.array([[1,2,3,4,5],[6,7,8,9,10]]).reshape(2,5).T"
   ]
  },
  {
   "cell_type": "code",
   "execution_count": 12,
   "metadata": {},
   "outputs": [],
   "source": [
    "y = X[:,0]+ 2*X[:,1]"
   ]
  },
  {
   "cell_type": "code",
   "execution_count": 13,
   "metadata": {},
   "outputs": [],
   "source": [
    "mlr = MultipleLinearRegression()"
   ]
  },
  {
   "cell_type": "code",
   "execution_count": 14,
   "metadata": {},
   "outputs": [
    {
     "name": "stdout",
     "output_type": "stream",
     "text": [
      "Total loss is : 0.0\n",
      "\n",
      "Weights are: [1. 2.]\n",
      "\n",
      "The value of adjusted R2 is : 1.0\n"
     ]
    }
   ],
   "source": [
    "mlr.fit(X,y)"
   ]
  },
  {
   "cell_type": "code",
   "execution_count": 15,
   "metadata": {},
   "outputs": [
    {
     "data": {
      "text/plain": [
       "array([50.])"
      ]
     },
     "execution_count": 15,
     "metadata": {},
     "output_type": "execute_result"
    }
   ],
   "source": [
    "mlr.predict(np.array([[10,20]]))"
   ]
  },
  {
   "cell_type": "markdown",
   "metadata": {},
   "source": [
    " "
   ]
  },
  {
   "cell_type": "markdown",
   "metadata": {},
   "source": [
    " "
   ]
  },
  {
   "cell_type": "markdown",
   "metadata": {},
   "source": [
    " "
   ]
  },
  {
   "cell_type": "markdown",
   "metadata": {},
   "source": [
    " "
   ]
  },
  {
   "cell_type": "markdown",
   "metadata": {},
   "source": [
    "## Linear Regression with Gradient Descent"
   ]
  },
  {
   "cell_type": "code",
   "execution_count": 38,
   "metadata": {},
   "outputs": [],
   "source": [
    "class LinearRegression:\n",
    "    def __init__(self, lr=0.0001, num_iters=100000):\n",
    "        self.lr = lr\n",
    "        self.num_iters = num_iters\n",
    "    \n",
    "    def __add_ones(self, X):\n",
    "        ones = np.ones((X.shape[0], 1))\n",
    "        return np.concatenate((ones, X), axis=1)\n",
    "    \n",
    "    def __loss(self, yhat, y):\n",
    "        return np.square(yhat - y).mean()\n",
    "    \n",
    "    def fit(self, X, y):\n",
    "\n",
    "        X = self.__add_ones(X)\n",
    "        print(X)\n",
    "        \n",
    "        # weights initialization\n",
    "        self.W = np.random.randn(X.shape[1])\n",
    "        print(self.W)\n",
    "        \n",
    "        for i in range(self.num_iters):\n",
    "            yhat = X.dot(self.W)\n",
    "            delta = yhat - y\n",
    "            self.W = self.W - self.lr*X.T.dot(delta)\n",
    "\n",
    "        print(\"Weights are: {}\".format(self.W))\n",
    "        \n",
    "        yhat = X.dot(self.W)\n",
    "        adjR2(y,yhat)\n",
    "\n",
    "    def predict(self, X):\n",
    "        return X.dot(self.W)"
   ]
  },
  {
   "cell_type": "markdown",
   "metadata": {},
   "source": [
    " "
   ]
  },
  {
   "cell_type": "markdown",
   "metadata": {},
   "source": [
    " "
   ]
  },
  {
   "cell_type": "markdown",
   "metadata": {},
   "source": [
    " "
   ]
  },
  {
   "cell_type": "markdown",
   "metadata": {},
   "source": [
    " "
   ]
  },
  {
   "cell_type": "markdown",
   "metadata": {},
   "source": [
    " "
   ]
  },
  {
   "cell_type": "code",
   "execution_count": null,
   "metadata": {},
   "outputs": [],
   "source": []
  },
  {
   "cell_type": "code",
   "execution_count": null,
   "metadata": {},
   "outputs": [],
   "source": []
  }
 ],
 "metadata": {
  "kernelspec": {
   "display_name": "Python 3",
   "language": "python",
   "name": "python3"
  },
  "language_info": {
   "codemirror_mode": {
    "name": "ipython",
    "version": 3
   },
   "file_extension": ".py",
   "mimetype": "text/x-python",
   "name": "python",
   "nbconvert_exporter": "python",
   "pygments_lexer": "ipython3",
   "version": "3.7.1"
  }
 },
 "nbformat": 4,
 "nbformat_minor": 2
}
