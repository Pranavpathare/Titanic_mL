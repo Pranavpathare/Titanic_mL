{
 "cells": [
  {
   "cell_type": "markdown",
   "metadata": {},
   "source": [
    "# Logistic Regression"
   ]
  },
  {
   "cell_type": "markdown",
   "metadata": {},
   "source": [
    "Logistic regression is the appropriate regression analysis to conduct when the dependent variable is dichotomous (binary).  Like all regression analyses, the logistic regression is a predictive analysis.  Logistic regression is used to describe data and to explain the relationship between one dependent binary variable and one or more nominal, ordinal, interval or ratio-level independent variables."
   ]
  },
  {
   "cell_type": "code",
   "execution_count": 3,
   "metadata": {},
   "outputs": [],
   "source": [
    "# Imports\n",
    "import numpy as np\n",
    "import random\n",
    "import sklearn"
   ]
  },
  {
   "cell_type": "code",
   "execution_count": 4,
   "metadata": {},
   "outputs": [],
   "source": [
    "# Importing the train_test_splitter and the evaluation metrics\n",
    "from sklearn.model_selection import train_test_split\n",
    "from sklearn.metrics import accuracy_score,confusion_matrix,classification_report "
   ]
  },
  {
   "cell_type": "markdown",
   "metadata": {},
   "source": [
    " "
   ]
  },
  {
   "cell_type": "code",
   "execution_count": 5,
   "metadata": {},
   "outputs": [],
   "source": [
    "# Input X should be in the form of a 2d array\n",
    "# The way scikit learn implements it\n",
    "# X = [[a,b],\n",
    "#      [c,d]]\n",
    "# y and targets must in the format of a one dimensional array of binary values here"
   ]
  },
  {
   "cell_type": "markdown",
   "metadata": {},
   "source": [
    " "
   ]
  },
  {
   "cell_type": "markdown",
   "metadata": {},
   "source": [
    "<img src=\"../Images/neuron.png\">"
   ]
  },
  {
   "cell_type": "markdown",
   "metadata": {},
   "source": [
    "______________________________________________________________________________________________________________________"
   ]
  },
  {
   "cell_type": "markdown",
   "metadata": {},
   "source": [
    "<img src=\"../Images/cross_entropy.png\">"
   ]
  },
  {
   "cell_type": "code",
   "execution_count": 6,
   "metadata": {},
   "outputs": [],
   "source": [
    "# Without Validation check\n",
    "class LogisticRegression:\n",
    "    def __init__(self, lr=0.0001, num_iters=100000):\n",
    "        self.lr = lr\n",
    "        self.num_iters = num_iters\n",
    "    \n",
    "    def __add_ones(self, X):\n",
    "        ones = np.ones((X.shape[0], 1))\n",
    "        return np.concatenate((ones, X), axis=1)\n",
    "    \n",
    "    def __sigmoid(self, z):\n",
    "        return 1 / (1 + np.exp(-z))\n",
    "    \n",
    "    def __cross_entropy(self, t, y):\n",
    "        return (-y * np.log(t) - (1 - y) * np.log(1 - t)).mean()\n",
    "    \n",
    "    def fit(self, X, y):\n",
    "\n",
    "        X = self.__add_ones(X)\n",
    "        \n",
    "        # weights initialization\n",
    "        self.W = np.random.randn(X.shape[1])\n",
    "        \n",
    "        for _ in range(self.num_iters):\n",
    "            z = np.dot(X, self.W)\n",
    "            t = self.__sigmoid(z)\n",
    "            grad = np.dot(X.T, (t - y))\n",
    "            self.W -= self.lr * grad\n",
    "            \n",
    "            if _%10000 == 0:\n",
    "                print('Loss: ',self.__cross_entropy(t, y))\n",
    "    \n",
    "    def __prob(self, X):\n",
    "        X = self.__add_ones(X)\n",
    "        return self.__sigmoid(np.dot(X, self.W))\n",
    "    \n",
    "    def predict(self, X):\n",
    "        return np.round(self.__prob(X))"
   ]
  },
  {
   "cell_type": "markdown",
   "metadata": {},
   "source": [
    " "
   ]
  },
  {
   "cell_type": "markdown",
   "metadata": {},
   "source": [
    " "
   ]
  },
  {
   "cell_type": "markdown",
   "metadata": {},
   "source": [
    " "
   ]
  },
  {
   "cell_type": "code",
   "execution_count": 7,
   "metadata": {},
   "outputs": [],
   "source": [
    "# with validation scores\n",
    "import numpy as np\n",
    "import matplotlib.pyplot as plt\n",
    "%matplotlib inline\n",
    "\n",
    "\n",
    "class LogisticRegression:\n",
    "    def __init__(self, lr=0.0001, num_iters=100000):\n",
    "        self.lr = lr\n",
    "        self.num_iters = num_iters\n",
    "    \n",
    "    def __add_ones(self, X):\n",
    "        ones = np.ones((X.shape[0], 1))\n",
    "        return np.concatenate((ones, X), axis=1)\n",
    "    \n",
    "    def __sigmoid(self, z):\n",
    "        return 1 / (1 + np.exp(-z))\n",
    "    \n",
    "    def __cross_entropy(self, t, y):\n",
    "        return (-y * np.log(t) - (1 - y) * np.log(1 - t)).mean()\n",
    "    \n",
    "    def fit(self, X, y, X_val, y_val):\n",
    "\n",
    "        X = self.__add_ones(X)\n",
    "        X_val = self.__add_ones(X_val)\n",
    "        \n",
    "        # weights initialization\n",
    "        self.W = np.random.randn(X.shape[1])\n",
    "        loss_val = []\n",
    "        loss_train = []\n",
    "        i_list = []\n",
    "        \n",
    "        for _ in range(self.num_iters):\n",
    "            z = np.dot(X, self.W)\n",
    "            t = self.__sigmoid(z)\n",
    "            grad = np.dot(X.T, (t - y))\n",
    "            self.W -= self.lr * grad\n",
    "            \n",
    "            if _%(self.num_iters/20) == 0:\n",
    "                matmul1 = np.dot(X_val, self.W)\n",
    "                x_val_pred = np.round(self.__sigmoid(matmul1))\n",
    "                loss = self.__cross_entropy(y_val,x_val_pred)\n",
    "                loss_val.append(loss)\n",
    "                loss_train.append(self.__cross_entropy(t, y))\n",
    "                \n",
    "                \n",
    "                i_list.append(_)\n",
    "                print(\"Training iteration: {} \".format(_))\n",
    "                print(' Training Loss: ',self.__cross_entropy(t, y))\n",
    "                \n",
    "\n",
    "                        \n",
    "        plt.plot(i_list,loss_val,'g-',label = \"Validation loss\")\n",
    "        plt.plot(i_list,loss_train,'b--',label = \"Training loss\")\n",
    "        plt.title(\"Training and validation Losses\")\n",
    "        plt.xlabel(\"Iterations\")\n",
    "        plt.ylabel(\"Loss\")\n",
    "        plt.show()\n",
    "                \n",
    "                \n",
    "                \n",
    "    \n",
    "    def __prob(self, X):\n",
    "        X = self.__add_ones(X)\n",
    "        return self.__sigmoid(np.dot(X, self.W))\n",
    "    \n",
    "    def predict(self, X):\n",
    "        return np.round(self.__prob(X))"
   ]
  },
  {
   "cell_type": "markdown",
   "metadata": {},
   "source": [
    "## Training the model on the AND gate"
   ]
  },
  {
   "cell_type": "code",
   "execution_count": 8,
   "metadata": {},
   "outputs": [],
   "source": [
    "# Preparing the data\n",
    "\n",
    "X = []\n",
    "y = []\n",
    "b = [[0,1],[1,0],[1,1],[0,0]]\n",
    "for i in range(1000):\n",
    "    p = random.choice(b)\n",
    "    X.append(p)\n",
    "    y.append(p[0] or p[1])\n",
    "X = np.array(X)\n",
    "y = np.array(y)"
   ]
  },
  {
   "cell_type": "code",
   "execution_count": 9,
   "metadata": {},
   "outputs": [],
   "source": [
    "lr = LogisticRegression(lr = 0.003)"
   ]
  },
  {
   "cell_type": "code",
   "execution_count": 10,
   "metadata": {},
   "outputs": [],
   "source": [
    "X_train, X_test, y_train, y_test = train_test_split(X, y, test_size=0.1, random_state=42)"
   ]
  },
  {
   "cell_type": "code",
   "execution_count": 11,
   "metadata": {},
   "outputs": [
    {
     "name": "stderr",
     "output_type": "stream",
     "text": [
      "C:\\Users\\prana\\Anaconda3\\lib\\site-packages\\ipykernel_launcher.py:20: RuntimeWarning: divide by zero encountered in log\n",
      "C:\\Users\\prana\\Anaconda3\\lib\\site-packages\\ipykernel_launcher.py:20: RuntimeWarning: invalid value encountered in multiply\n"
     ]
    },
    {
     "name": "stdout",
     "output_type": "stream",
     "text": [
      "Training iteration: 0 \n",
      " Training Loss:  0.39924290101612125\n",
      "Training iteration: 5000 \n",
      " Training Loss:  0.0006695280562423601\n",
      "Training iteration: 10000 \n",
      " Training Loss:  0.00033416609173803595\n",
      "Training iteration: 15000 \n",
      " Training Loss:  0.00022262288914228935\n",
      "Training iteration: 20000 \n",
      " Training Loss:  0.0001669042430656227\n",
      "Training iteration: 25000 \n",
      " Training Loss:  0.00013349144206905767\n",
      "Training iteration: 30000 \n",
      " Training Loss:  0.00011122434844831448\n",
      "Training iteration: 35000 \n",
      " Training Loss:  9.532342721887973e-05\n",
      "Training iteration: 40000 \n",
      " Training Loss:  8.340008338256428e-05\n",
      "Training iteration: 45000 \n",
      " Training Loss:  7.412780312920038e-05\n",
      "Training iteration: 50000 \n",
      " Training Loss:  6.671090339281325e-05\n",
      "Training iteration: 55000 \n",
      " Training Loss:  6.064315539224024e-05\n",
      "Training iteration: 60000 \n",
      " Training Loss:  5.558713632605695e-05\n",
      "Training iteration: 65000 \n",
      " Training Loss:  5.130928240897816e-05\n",
      "Training iteration: 70000 \n",
      " Training Loss:  4.764278465559466e-05\n",
      "Training iteration: 75000 \n",
      " Training Loss:  4.4465330592250815e-05\n",
      "Training iteration: 80000 \n",
      " Training Loss:  4.168519510903837e-05\n",
      "Training iteration: 85000 \n",
      " Training Loss:  3.923224170695303e-05\n",
      "Training iteration: 90000 \n",
      " Training Loss:  3.705192408464329e-05\n",
      "Training iteration: 95000 \n",
      " Training Loss:  3.510118241774571e-05\n"
     ]
    },
    {
     "data": {
      "image/png": "[encoded data removed]",
      "text/plain": [
       "<Figure size 432x288 with 1 Axes>"
      ]
     },
     "metadata": {
      "needs_background": "light"
     },
     "output_type": "display_data"
    }
   ],
   "source": [
    "lr.fit(X = X_train,y = y_train,X_val=X_test,y_val=y_test)"
   ]
  },
  {
   "cell_type": "code",
   "execution_count": 12,
   "metadata": {},
   "outputs": [],
   "source": [
    "predictions = lr.predict(X_test)"
   ]
  },
  {
   "cell_type": "code",
   "execution_count": 13,
   "metadata": {},
   "outputs": [
    {
     "name": "stdout",
     "output_type": "stream",
     "text": [
      "1.0\n",
      "\n",
      "------------------------------------------------------\n",
      "[[20  0]\n",
      " [ 0 80]]\n",
      "\n",
      "------------------------------------------------------\n",
      "              precision    recall  f1-score   support\n",
      "\n",
      "           0       1.00      1.00      1.00        20\n",
      "           1       1.00      1.00      1.00        80\n",
      "\n",
      "   micro avg       1.00      1.00      1.00       100\n",
      "   macro avg       1.00      1.00      1.00       100\n",
      "weighted avg       1.00      1.00      1.00       100\n",
      "\n",
      "\n",
      "------------------------------------------------------\n"
     ]
    }
   ],
   "source": [
    "for i in [accuracy_score,confusion_matrix,classification_report]:\n",
    "    print(i(y_test,predictions))\n",
    "    print()\n",
    "    print(\"------------------------------------------------------\")"
   ]
  },
  {
   "cell_type": "markdown",
   "metadata": {},
   "source": [
    "## Logistic Regression using Sklearn"
   ]
  },
  {
   "cell_type": "code",
   "execution_count": 14,
   "metadata": {},
   "outputs": [],
   "source": [
    "from sklearn.linear_model import LogisticRegression"
   ]
  },
  {
   "cell_type": "code",
   "execution_count": 15,
   "metadata": {},
   "outputs": [],
   "source": [
    "logr = LogisticRegression()"
   ]
  },
  {
   "cell_type": "code",
   "execution_count": null,
   "metadata": {},
   "outputs": [],
   "source": [
    "accuracy_score()"
   ]
  },
  {
   "cell_type": "code",
   "execution_count": 16,
   "metadata": {},
   "outputs": [
    {
     "name": "stderr",
     "output_type": "stream",
     "text": [
      "C:\\Users\\prana\\Anaconda3\\lib\\site-packages\\sklearn\\linear_model\\logistic.py:433: FutureWarning: Default solver will be changed to 'lbfgs' in 0.22. Specify a solver to silence this warning.\n",
      "  FutureWarning)\n"
     ]
    },
    {
     "data": {
      "text/plain": [
       "LogisticRegression(C=1.0, class_weight=None, dual=False, fit_intercept=True,\n",
       "          intercept_scaling=1, max_iter=100, multi_class='warn',\n",
       "          n_jobs=None, penalty='l2', random_state=None, solver='warn',\n",
       "          tol=0.0001, verbose=0, warm_start=False)"
      ]
     },
     "execution_count": 16,
     "metadata": {},
     "output_type": "execute_result"
    }
   ],
   "source": [
    "logr.fit(X=X_train,y= y_train)"
   ]
  },
  {
   "cell_type": "code",
   "execution_count": 17,
   "metadata": {},
   "outputs": [],
   "source": [
    "predictions = logr.predict(X_test)"
   ]
  },
  {
   "cell_type": "code",
   "execution_count": 18,
   "metadata": {},
   "outputs": [],
   "source": [
    "def metrics(Predictions,True_values):\n",
    "    for i in [accuracy_score,confusion_matrix,classification_report ]:\n",
    "        print(i(True_values,Predictions))\n",
    "        print()"
   ]
  },
  {
   "cell_type": "code",
   "execution_count": 19,
   "metadata": {},
   "outputs": [
    {
     "name": "stdout",
     "output_type": "stream",
     "text": [
      "1.0\n",
      "\n",
      "[[20  0]\n",
      " [ 0 80]]\n",
      "\n",
      "              precision    recall  f1-score   support\n",
      "\n",
      "           0       1.00      1.00      1.00        20\n",
      "           1       1.00      1.00      1.00        80\n",
      "\n",
      "   micro avg       1.00      1.00      1.00       100\n",
      "   macro avg       1.00      1.00      1.00       100\n",
      "weighted avg       1.00      1.00      1.00       100\n",
      "\n",
      "\n"
     ]
    }
   ],
   "source": [
    "metrics(predictions,y_test)"
   ]
  },
  {
   "cell_type": "code",
   "execution_count": null,
   "metadata": {},
   "outputs": [],
   "source": []
  }
 ],
 "metadata": {
  "kernelspec": {
   "display_name": "Python 3",
   "language": "python",
   "name": "python3"
  },
  "language_info": {
   "codemirror_mode": {
    "name": "ipython",
    "version": 3
   },
   "file_extension": ".py",
   "mimetype": "text/x-python",
   "name": "python",
   "nbconvert_exporter": "python",
   "pygments_lexer": "ipython3",
   "version": "3.7.1"
  }
 },
 "nbformat": 4,
 "nbformat_minor": 2
}
